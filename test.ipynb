{
 "cells": [
  {
   "cell_type": "markdown",
   "metadata": {},
   "source": [
    "# Doing a first test of the K-S strategy\n",
    "\n",
    "The idea here is to simulate values of $T_{2}^{3}$ (the coalescence time\n",
    "\n",
    "1. Fix a pair $(n, M)$\n",
    "\n",
    "2. Simulate values of $(T_{3}, T_{2}^{(3)})$ under a structured model considering that genes are sampled from the same deme. (Simulation can be done by using ms or other). \n",
    "\n",
    "3. We only keep the values of $T_{2}^{(3)}$. The simulated values depend on $(n, M)$\n",
    "\n",
    "4. We compare this theoretical distribution of $T_{2}^{(3, \\lambda)}$ with the simulated values of $T_{2}^{(3)}$ by using a KS test.\n",
    "\n",
    "\n",
    "Note that under a panmictic model with population size change function $\\lambda$, the distribution of $T_{2}^{(3, \\lambda)}$ is given by:\n",
    "\n",
    "$$P(T_2^{(3),\\lambda} > u)=\\int_0^{\\infty} \\left(\\frac{1-F_{T_3}(t+u)}{1-F_{T_3}(t)}\\right)^{1/3}f_{T_3}(t)dt$$\n",
    "\n",
    "Where $F_{T_{3}}$ and $f_{T_{3}}$ are the $cdf$ and $pdf$ of $T_{3}$\n",
    "\n",
    "We know that for any values $(n, M)$ there exists an $IICR$ or $\\lambda$ such that:\n",
    "\n",
    "$$F_{T_3^{(\\lambda)}} = F_{T_{3}^{(n, M)}}$$\n",
    "\n",
    "and we know that:\n",
    "\n",
    "$$F_{T_{3}^{(n, M)}}(t)=P_{t}(1,4) + P_{t}(1, 5)$$\n",
    "\n",
    "and\n",
    "\n",
    "$$f_{T_{3}^{(n, M)}}=3P_{t}(1, 1) + P_{t}(1,2)$$\n",
    "\n",
    "We use this formula to compute the theoretical distribution of $T_{2}^{(3, \\lambda)}$\n",
    "\n"
   ]
  },
  {
   "cell_type": "code",
   "execution_count": 1,
   "metadata": {
    "collapsed": false
   },
   "outputs": [
    {
     "name": "stdout",
     "output_type": "stream",
     "text": [
      "Using matplotlib backend: Qt4Agg\n"
     ]
    }
   ],
   "source": [
    "import numpy as np\n",
    "import matplotlib.pyplot as plt\n",
    "from utils import simulateT2T3, construct_cdf_pdf, cdf_T2_3_lambda\n",
    "\n",
    "#% matplotlib inline\n",
    "% matplotlib auto\n",
    "\n",
    "n = 10\n",
    "M = 1\n",
    "\n",
    "ms_command = 'ms 3 100000 -L -I 10 3 0 0 0 0 0 0 0 0 0 1'\n",
    "\n",
    "# Simulate (T2, T3) values using a ms-command\n",
    "(T2_values, T3_values) = simulateT2T3(ms_command)\n"
   ]
  },
  {
   "cell_type": "code",
   "execution_count": 2,
   "metadata": {
    "collapsed": true
   },
   "outputs": [],
   "source": [
    "# Compute the empirical cdf of T2_struct from T2_values\n",
    "#bins = np.arange(0, max(T2_values), 0.01)\n",
    "bins_empirical = np.arange(0, max(T2_values), 0.01)\n",
    "bins_theor = np.arange(0, 5, 0.05)\n",
    "(empirical_T2_pdf, empirical_T2_cdf) = construct_cdf_pdf(T2_values, bins_empirical)"
   ]
  },
  {
   "cell_type": "code",
   "execution_count": 3,
   "metadata": {
    "collapsed": false
   },
   "outputs": [],
   "source": [
    "# Compute the theoretical distribution of T_2_3_lambda\n",
    "theor_T2_3_lambda = [cdf_T2_3_lambda(u, n, M) for u in bins_theor]"
   ]
  },
  {
   "cell_type": "code",
   "execution_count": 5,
   "metadata": {
    "collapsed": false
   },
   "outputs": [
    {
     "name": "stdout",
     "output_type": "stream",
     "text": [
      "Using matplotlib backend: Qt4Agg\n"
     ]
    }
   ],
   "source": [
    "#%matplotlib inline\n",
    "%matplotlib auto\n",
    "fig = plt.figure()\n",
    "ax = fig.add_subplot(111)\n",
    "ax.plot(bins_theor, theor_T2_3_lambda, '-b', label=r\"Theoretical cdf of $T_{2}^{3, \\lambda}$\")\n",
    "ax.plot(bins_empirical[:-1], empirical_T2_cdf, '-r', label=r\"Empirical cdf of $T_{2}^{3, \\lambda}$\")\n",
    "ax.set_xlim(0, 5)\n",
    "\n",
    "#a.set_ylabel(r\"cdf of $T_{2}^{3, \\lambda}$\")\n",
    "plt.legend(loc=\"best\")\n",
    "plt.show()\n"
   ]
  },
  {
   "cell_type": "code",
   "execution_count": null,
   "metadata": {
    "collapsed": true
   },
   "outputs": [],
   "source": []
  }
 ],
 "metadata": {
  "kernelspec": {
   "display_name": "Python 2",
   "language": "python",
   "name": "python2"
  },
  "language_info": {
   "codemirror_mode": {
    "name": "ipython",
    "version": 2
   },
   "file_extension": ".py",
   "mimetype": "text/x-python",
   "name": "python",
   "nbconvert_exporter": "python",
   "pygments_lexer": "ipython2",
   "version": "2.7.10"
  }
 },
 "nbformat": 4,
 "nbformat_minor": 0
}
